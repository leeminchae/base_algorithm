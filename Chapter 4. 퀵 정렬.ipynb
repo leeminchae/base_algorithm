{
 "cells": [
  {
   "cell_type": "markdown",
   "metadata": {},
   "source": [
    "# Chapter 4. 퀵 정렬"
   ]
  },
  {
   "cell_type": "markdown",
   "metadata": {},
   "source": [
    "## 분할 정복"
   ]
  },
  {
   "cell_type": "code",
   "execution_count": 9,
   "metadata": {},
   "outputs": [],
   "source": [
    "#일단 생각해서 함수 만들어봄 (처음 작성)\n",
    "def square(h, v): # h =가로, v = 세로\n",
    "    LCM = 0       # LCM = 최소공배수\n",
    "    list_ = []\n",
    "    #가로가 길었을 때로 가정\n",
    "    for i in range(1, v+1):\n",
    "        if (h%i==0 & v%i==0):\n",
    "            LCM = i\n",
    "    \n",
    "    h //= i\n",
    "    v //= i\n",
    "    \n",
    "    while (h==0 | v==0):\n",
    "        if h > v:\n",
    "            list_.append(v)\n",
    "            h -= v\n",
    "        elif h < v:\n",
    "            list_.append(h)\n",
    "            v -= h\n",
    "        else:\n",
    "            list_.append(h) # h, v 상관 없음\n",
    "            break\n",
    "            \n",
    "    for i in list_:\n",
    "        i *= LCM\n",
    "            \n",
    "    return list_ "
   ]
  },
  {
   "cell_type": "code",
   "execution_count": 12,
   "metadata": {},
   "outputs": [
    {
     "data": {
      "text/plain": [
       "[]"
      ]
     },
     "execution_count": 12,
     "metadata": {},
     "output_type": "execute_result"
    }
   ],
   "source": [
    "square(1680, 640) #실패_최소공배수가 이상함"
   ]
  },
  {
   "cell_type": "code",
   "execution_count": 18,
   "metadata": {},
   "outputs": [],
   "source": [
    "#일단 생각해서 함수 만들어봄 (2.....)\n",
    "def square(h, v):\n",
    "    LCM = 0\n",
    "    list_ = []\n",
    "    for i in range(1, v+1):\n",
    "        if (h%i==0 and v%i==0):            # & => and\n",
    "            LCM = i    \n",
    "    \n",
    "    h //= i\n",
    "    v //= i\n",
    "    print(h, v)\n",
    "    \n",
    "    while (h==0 or v==0):                  # | => or \n",
    "        if h > v:\n",
    "            list_.append(v)\n",
    "            h -= v\n",
    "        elif h < v:\n",
    "            list_.append(h)\n",
    "            v -= h\n",
    "        else:\n",
    "            list_.append(h)\n",
    "            break\n",
    "            \n",
    "    for i in list_:\n",
    "        i *= LCM\n",
    "            \n",
    "    return list_ "
   ]
  },
  {
   "cell_type": "code",
   "execution_count": 19,
   "metadata": {},
   "outputs": [
    {
     "name": "stdout",
     "output_type": "stream",
     "text": [
      "1\n",
      "2\n",
      "4\n",
      "5\n",
      "8\n",
      "10\n",
      "16\n",
      "20\n",
      "40\n",
      "80\n",
      "80\n",
      "2 1\n"
     ]
    },
    {
     "data": {
      "text/plain": [
       "[]"
      ]
     },
     "execution_count": 19,
     "metadata": {},
     "output_type": "execute_result"
    }
   ],
   "source": [
    "square(1680, 640) #실패_최소공배수로 안 나눔"
   ]
  },
  {
   "cell_type": "code",
   "execution_count": 27,
   "metadata": {},
   "outputs": [],
   "source": [
    "#일단 생각해서 함수 만들어봄 (3.....)\n",
    "def square(h, v):\n",
    "    LCM = 0\n",
    "    list_ = []\n",
    "    for i in range(1, v+1):\n",
    "        if (h%i==0 and v%i==0):            # & => and\n",
    "            LCM = i    \n",
    "    \n",
    "    h //= LCM                               # i => LCM\n",
    "    v //= LCM\n",
    "    \n",
    "    while (h==0 or v==0):                   # | => or\n",
    "        if h > v:\n",
    "            list_.append(v)\n",
    "            h -= v\n",
    "        elif h < v:\n",
    "            list_.append(h)\n",
    "            v -= h\n",
    "        else:\n",
    "            list_.append(h)\n",
    "            break\n",
    "            \n",
    "    for i in list_:\n",
    "        i *= LCM\n",
    "            \n",
    "    return list_ "
   ]
  },
  {
   "cell_type": "code",
   "execution_count": 29,
   "metadata": {},
   "outputs": [
    {
     "data": {
      "text/plain": [
       "[]"
      ]
     },
     "execution_count": 29,
     "metadata": {},
     "output_type": "execute_result"
    }
   ],
   "source": [
    "square(1680, 640) #실패_while문 조건 잘못 입력"
   ]
  },
  {
   "cell_type": "code",
   "execution_count": 1,
   "metadata": {},
   "outputs": [],
   "source": [
    "#일단 생각해서 함수 만들어봄 (4.....)\n",
    "def square(h, v):\n",
    "    LCM = 0\n",
    "    list_ = []\n",
    "    for i in range(1, v+1):\n",
    "        if (h%i==0 and v%i==0):            # & => and\n",
    "            LCM = i    \n",
    "    \n",
    "    h //= LCM                               # i => LCM\n",
    "    v //= LCM\n",
    "    \n",
    "    while (h!=0 or v!=0):                  # | => or , == => !=\n",
    "        if h > v:\n",
    "            list_.append(v)\n",
    "            h -= v\n",
    "        elif h < v:\n",
    "            list_.append(h)\n",
    "            v -= h\n",
    "        else:\n",
    "            list_.append(h) \n",
    "            break\n",
    "            \n",
    "    for i in list_:\n",
    "        i *= LCM\n",
    "            \n",
    "    return list_ "
   ]
  },
  {
   "cell_type": "code",
   "execution_count": 2,
   "metadata": {},
   "outputs": [
    {
     "data": {
      "text/plain": [
       "[8, 8, 5, 3, 2, 1, 1]"
      ]
     },
     "execution_count": 2,
     "metadata": {},
     "output_type": "execute_result"
    }
   ],
   "source": [
    "square(1680, 640) #실패_최소공배수 안 곱해짐"
   ]
  },
  {
   "cell_type": "code",
   "execution_count": 2,
   "metadata": {},
   "outputs": [],
   "source": [
    "#일단 생각해서 함수 만들어봄 (5.....)\n",
    "def square(h, v):\n",
    "    LCM = 0\n",
    "    list_ = []\n",
    "    for i in range(1, v+1):\n",
    "        if (h%i==0 and v%i==0):            # & => and\n",
    "            LCM = i    \n",
    "    \n",
    "    h //= LCM                               # i => LCM\n",
    "    v //= LCM\n",
    "    \n",
    "    while (h!=0 or v!=0):                  # | => or , == => !=\n",
    "        if h > v:\n",
    "            list_.append(v)\n",
    "            h -= v\n",
    "        elif h < v:\n",
    "            list_.append(h)\n",
    "            v -= h\n",
    "        else:\n",
    "            list_.append(h) \n",
    "            break\n",
    "            \n",
    "    for i in range(len(list_)):            # list_ => range(len(list_))     이건 좀 더 알아봐야 할 듯\n",
    "        list_[i] *= LCM\n",
    "            \n",
    "    return list_ "
   ]
  },
  {
   "cell_type": "code",
   "execution_count": 3,
   "metadata": {
    "scrolled": true
   },
   "outputs": [
    {
     "data": {
      "text/plain": [
       "[640, 640, 400, 240, 160, 80, 80]"
      ]
     },
     "execution_count": 3,
     "metadata": {},
     "output_type": "execute_result"
    }
   ],
   "source": [
    "square(1680, 640)"
   ]
  },
  {
   "cell_type": "markdown",
   "metadata": {},
   "source": [
    "## 분할 정복"
   ]
  },
  {
   "cell_type": "code",
   "execution_count": 14,
   "metadata": {},
   "outputs": [],
   "source": [
    "#위 문제를 간단하게 코드로 구현\n",
    "def square(h, v):\n",
    "    list_=[]\n",
    "    while (h!=0 or v!=0):\n",
    "        if h > v:\n",
    "            list_.append(v)\n",
    "            h -= v\n",
    "        elif h < v:\n",
    "            list_.append(h)\n",
    "            v -= h\n",
    "        else:\n",
    "            list_.append(h) \n",
    "            break\n",
    "    return list_"
   ]
  },
  {
   "cell_type": "code",
   "execution_count": 15,
   "metadata": {},
   "outputs": [
    {
     "data": {
      "text/plain": [
       "[640, 640, 400, 240, 160, 80, 80]"
      ]
     },
     "execution_count": 15,
     "metadata": {},
     "output_type": "execute_result"
    }
   ],
   "source": [
    "square(1680, 640)"
   ]
  },
  {
   "cell_type": "code",
   "execution_count": 16,
   "metadata": {},
   "outputs": [
    {
     "name": "stdout",
     "output_type": "stream",
     "text": [
      "10\n"
     ]
    }
   ],
   "source": [
    "def sum(arr):\n",
    "    total = 0\n",
    "    for x in arr:\n",
    "        total += x\n",
    "    return total\n",
    "\n",
    "print(sum([1, 2, 3, 4]))"
   ]
  },
  {
   "cell_type": "markdown",
   "metadata": {},
   "source": [
    "## 퀵 정렬"
   ]
  },
  {
   "cell_type": "code",
   "execution_count": 17,
   "metadata": {},
   "outputs": [],
   "source": [
    "def quicksort(array):\n",
    "    if len(array) < 2:\n",
    "        return array"
   ]
  },
  {
   "cell_type": "code",
   "execution_count": 26,
   "metadata": {},
   "outputs": [],
   "source": [
    "def quicksort(array):\n",
    "    if len(array) < 2:\n",
    "        return array\n",
    "    else:\n",
    "        pivot = array[0]\n",
    "        less = [i for i in array[1:] if i <= pivot]\n",
    "        greater = [i for i in array[1:] if i > pivot]\n",
    "        \n",
    "        return quicksort(less) + [pivot] + quicksort(greater)"
   ]
  },
  {
   "cell_type": "code",
   "execution_count": 27,
   "metadata": {},
   "outputs": [
    {
     "name": "stdout",
     "output_type": "stream",
     "text": [
      "[2, 3, 5, 10]\n"
     ]
    }
   ],
   "source": [
    "print(quicksort([10, 5, 2, 3]))"
   ]
  },
  {
   "cell_type": "markdown",
   "metadata": {},
   "source": [
    "## 빅오 표기법 복습"
   ]
  },
  {
   "cell_type": "code",
   "execution_count": 28,
   "metadata": {},
   "outputs": [],
   "source": [
    "def print_items(list):\n",
    "    for item in list:\n",
    "        print(item)"
   ]
  },
  {
   "cell_type": "code",
   "execution_count": 29,
   "metadata": {},
   "outputs": [],
   "source": [
    "from time import sleep\n",
    "def print_items2(list):\n",
    "    for item in list:\n",
    "        sleep(1)\n",
    "        print(item)"
   ]
  }
 ],
 "metadata": {
  "kernelspec": {
   "display_name": "Python 3",
   "language": "python",
   "name": "python3"
  },
  "language_info": {
   "codemirror_mode": {
    "name": "ipython",
    "version": 3
   },
   "file_extension": ".py",
   "mimetype": "text/x-python",
   "name": "python",
   "nbconvert_exporter": "python",
   "pygments_lexer": "ipython3",
   "version": "3.8.3"
  }
 },
 "nbformat": 4,
 "nbformat_minor": 4
}
