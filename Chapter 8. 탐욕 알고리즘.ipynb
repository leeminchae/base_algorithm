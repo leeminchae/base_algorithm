{
 "cells": [
  {
   "cell_type": "markdown",
   "metadata": {},
   "source": [
    "# Chapter 8. 탐욕 알고리즘"
   ]
  },
  {
   "cell_type": "markdown",
   "metadata": {},
   "source": [
    "## 집합 커버링 문제"
   ]
  },
  {
   "cell_type": "code",
   "execution_count": 1,
   "metadata": {},
   "outputs": [],
   "source": [
    "states_needed = set([\"mt\", \"wa\", \"or\", \"id\", \"nv\", \"ut\", \"ca\", \"az\"])\n",
    "# 배열을 넣으면 집합이 된다."
   ]
  },
  {
   "cell_type": "code",
   "execution_count": 2,
   "metadata": {},
   "outputs": [
    {
     "data": {
      "text/plain": [
       "{1, 2, 3}"
      ]
     },
     "execution_count": 2,
     "metadata": {},
     "output_type": "execute_result"
    }
   ],
   "source": [
    "# ex\n",
    "arr = [1,2,2,3,3,3]\n",
    "set(arr)\n",
    "\n",
    "# 집합은 중복 원소를 갖지 않음"
   ]
  },
  {
   "cell_type": "code",
   "execution_count": 3,
   "metadata": {},
   "outputs": [],
   "source": [
    "stations = {}\n",
    "stations[\"kone\"] = set([\"id\", \"nv\", \"ut\"])\n",
    "stations[\"ktwo\"] = set([\"wa\", \"id\", \"mt\"])\n",
    "stations[\"kthree\"] = set([\"or\", \"nv\", \"ca\"])\n",
    "stations[\"kfour\"] = set([\"nv\", \"ut\"])\n",
    "stations[\"kfive\"] = set([\"ca\", \"az\"])\n",
    "# key = 방송국 이름, value = 방송국의 방송을 들을 수 있는 주의 목록"
   ]
  },
  {
   "cell_type": "code",
   "execution_count": 4,
   "metadata": {},
   "outputs": [],
   "source": [
    "final_stations = set()\n",
    "# 방문할 방송국의 목록"
   ]
  },
  {
   "cell_type": "code",
   "execution_count": 5,
   "metadata": {},
   "outputs": [
    {
     "name": "stdout",
     "output_type": "stream",
     "text": [
      "kone {'ut', 'nv', 'id'}\n"
     ]
    }
   ],
   "source": [
    "best_station = None       # 가장 많은 주를 커버하고 있는 방송국\n",
    "states_covered = set()    # 해당 방송국이 커버하고 있는 주의 집합\n",
    "for station, states_for_station in stations.items():\n",
    "    #station = key, states_for_station = value\n",
    "    covered = states_needed and states_for_station   # 새로운 문법(교집합)\n",
    "    if len(covered) > len(states_covered):\n",
    "        best_station = station\n",
    "        states_covered = covered\n",
    "# 합집합에 초점을 맞춤\n",
    "\n",
    "print(best_station, states_covered)"
   ]
  },
  {
   "cell_type": "code",
   "execution_count": 6,
   "metadata": {},
   "outputs": [
    {
     "name": "stdout",
     "output_type": "stream",
     "text": [
      "{'avocado', 'carrots', 'banana', 'beets', 'tomato'}\n",
      "{'tomato'}\n",
      "{'avocado', 'banana'}\n",
      "{'beets', 'carrots'}\n"
     ]
    }
   ],
   "source": [
    "# 집합 연산 ex\n",
    "fruits = set([\"avocado\", \"tomato\", \"banana\"])\n",
    "vegitables = set([\"beets\", \"carrots\", \"tomato\"])\n",
    "print(fruits | vegitables)\n",
    "print(fruits & vegitables)\n",
    "print(fruits - vegitables)\n",
    "print(vegitables - fruits)"
   ]
  },
  {
   "cell_type": "code",
   "execution_count": 7,
   "metadata": {},
   "outputs": [],
   "source": [
    "final_stations.add(best_station)"
   ]
  },
  {
   "cell_type": "code",
   "execution_count": 8,
   "metadata": {},
   "outputs": [],
   "source": [
    "states_needed -= states_covered"
   ]
  },
  {
   "cell_type": "code",
   "execution_count": null,
   "metadata": {},
   "outputs": [],
   "source": [
    "#실행[x]\n",
    "\n",
    "while states_needed:\n",
    "    best_station = None       # 가장 많은 주를 커버하고 있는 방송국\n",
    "    states_covered = set()    # 해당 방송국이 커버하고 있는 주의 집합\n",
    "    for station, states in stations.items():\n",
    "        covered = states_needed and states   # 새로운 문법(교집합)\n",
    "        if len(covered) > len(states_covered):\n",
    "            best_station = station\n",
    "            states_covered = covered  # 합집합에 초점을 맞춤\n",
    "            \n",
    "    states_needed -= states_covered   #states_needed 갱신\n",
    "    final_stations.add(best_station)  "
   ]
  },
  {
   "cell_type": "code",
   "execution_count": null,
   "metadata": {},
   "outputs": [],
   "source": [
    "print(final_stations)"
   ]
  }
 ],
 "metadata": {
  "kernelspec": {
   "display_name": "Python 3",
   "language": "python",
   "name": "python3"
  },
  "language_info": {
   "codemirror_mode": {
    "name": "ipython",
    "version": 3
   },
   "file_extension": ".py",
   "mimetype": "text/x-python",
   "name": "python",
   "nbconvert_exporter": "python",
   "pygments_lexer": "ipython3",
   "version": "3.8.3"
  }
 },
 "nbformat": 4,
 "nbformat_minor": 4
}
