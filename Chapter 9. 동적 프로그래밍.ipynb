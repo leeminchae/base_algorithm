{
 "cells": [
  {
   "cell_type": "markdown",
   "metadata": {},
   "source": [
    "# Chapter 9. 동적 프로그래밍"
   ]
  },
  {
   "cell_type": "markdown",
   "metadata": {},
   "source": [
    "## 최장 공통 부분 문자열"
   ]
  },
  {
   "cell_type": "code",
   "execution_count": null,
   "metadata": {},
   "outputs": [],
   "source": [
    "# 최장 공통 부분\n",
    "if word_a[i] == word_b[j]:         # 글자가 같다.\n",
    "    cell[i][j] = cell[i-1][j-1] + 1\n",
    "else:\n",
    "    cell[i][j] = 0                 # 글자가 다르다."
   ]
  },
  {
   "cell_type": "code",
   "execution_count": null,
   "metadata": {},
   "outputs": [],
   "source": [
    "# 최장 공통 부분 문자열\n",
    "if word_a[i] == word_b[j]:\n",
    "    cell[i][j] = cell[i-1][j-1] + 1\n",
    "else:\n",
    "    cell[i][j] = max(cell[i-1][j], cell[i][j-1])"
   ]
  },
  {
   "cell_type": "markdown",
   "metadata": {},
   "source": [
    "## 프로그래밍"
   ]
  },
  {
   "cell_type": "code",
   "execution_count": 3,
   "metadata": {},
   "outputs": [
    {
     "name": "stdout",
     "output_type": "stream",
     "text": [
      "fosh\n",
      "fish\n",
      "1 0 0 0 \n",
      "0 0 0 0 \n",
      "0 0 1 0 \n",
      "0 0 0 2 \n"
     ]
    }
   ],
   "source": [
    "# 최장 공통 부분\n",
    "word_a = input()\n",
    "word_b = input()\n",
    "word_a = list(word_a)\n",
    "word_b = list(word_b)\n",
    "cell = [[0 for i in range(len(word_a))] for j in range(len(word_b))]\n",
    "\n",
    "for i in range(len(word_a)):\n",
    "    for j in range(len(word_b)):\n",
    "        if word_a[i] == word_b[j]:        \n",
    "            cell[i][j] = cell[i-1][j-1] + 1\n",
    "        else:\n",
    "            cell[i][j] = 0      \n",
    "            \n",
    "for i in cell:\n",
    "    for j in i:\n",
    "        print(j, end = ' ')\n",
    "    print()"
   ]
  },
  {
   "cell_type": "code",
   "execution_count": 2,
   "metadata": {},
   "outputs": [
    {
     "name": "stdout",
     "output_type": "stream",
     "text": [
      "fosh\n",
      "fish\n",
      "1 1 1 1 \n",
      "1 1 1 1 \n",
      "1 1 2 2 \n",
      "1 1 2 3 \n"
     ]
    }
   ],
   "source": [
    "# 최장 공통 부분 문자열\n",
    "word_a = input()\n",
    "word_b = input()\n",
    "word_a = list(word_a)\n",
    "word_b = list(word_b)\n",
    "cell = [[0 for i in range(len(word_a))] for j in range(len(word_b))]\n",
    "\n",
    "for i in range(len(word_a)):\n",
    "    for j in range(len(word_b)):\n",
    "        if word_a[i] == word_b[j]:\n",
    "            cell[i][j] = cell[i-1][j-1] + 1\n",
    "        else:\n",
    "            cell[i][j] = max(cell[i-1][j], cell[i][j-1])\n",
    "            \n",
    "for i in cell:\n",
    "    for j in i:\n",
    "        print(j, end = ' ')\n",
    "    print()"
   ]
  }
 ],
 "metadata": {
  "kernelspec": {
   "display_name": "Python 3",
   "language": "python",
   "name": "python3"
  },
  "language_info": {
   "codemirror_mode": {
    "name": "ipython",
    "version": 3
   },
   "file_extension": ".py",
   "mimetype": "text/x-python",
   "name": "python",
   "nbconvert_exporter": "python",
   "pygments_lexer": "ipython3",
   "version": "3.8.3"
  }
 },
 "nbformat": 4,
 "nbformat_minor": 4
}
